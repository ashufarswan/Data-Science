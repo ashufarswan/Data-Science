{
 "cells": [
  {
   "cell_type": "code",
   "execution_count": 1,
   "metadata": {},
   "outputs": [],
   "source": [
    "#importing modules\n",
    "import numpy as np\n",
    "import pandas as pd\n",
    "import tensorflow as tf\n",
    "import matplotlib.pyplot as plt"
   ]
  },
  {
   "cell_type": "code",
   "execution_count": 2,
   "metadata": {},
   "outputs": [],
   "source": [
    "#importing digit dataset\n",
    "\n",
    "from keras.datasets import mnist\n",
    "(x_train1, y_train1), (x_test1, y_test1) = mnist.load_data()"
   ]
  },
  {
   "cell_type": "code",
   "execution_count": 3,
   "metadata": {},
   "outputs": [
    {
     "name": "stdout",
     "output_type": "stream",
     "text": [
      "(60000, 28, 28)\n",
      "(60000,)\n",
      "(10000, 28, 28)\n",
      "(10000,)\n"
     ]
    }
   ],
   "source": [
    "print(x_train1.shape)\n",
    "print(y_train1.shape)\n",
    "print(x_test1.shape)\n",
    "print(y_test1.shape)"
   ]
  },
  {
   "cell_type": "code",
   "execution_count": 4,
   "metadata": {},
   "outputs": [],
   "source": [
    "#reducing size of mnist data set\n",
    "x_train1 = x_train1[:15000]\n",
    "y_train1 = y_train1[:15000]\n",
    "x_test1 = x_test1[:2000]\n",
    "y_test1 = y_test1[:2000]"
   ]
  },
  {
   "cell_type": "code",
   "execution_count": 5,
   "metadata": {},
   "outputs": [
    {
     "data": {
      "image/png": "[encoded data removed]",
      "text/plain": [
       "<Figure size 432x288 with 1 Axes>"
      ]
     },
     "metadata": {
      "needs_background": "light"
     },
     "output_type": "display_data"
    }
   ],
   "source": [
    "(number,count) = np.unique(y_train1,return_counts = True)\n",
    "plt.xticks(number)\n",
    "plt.bar(number,count,width = 0.6)\n",
    "plt.xlabel(\"Digit\")\n",
    "plt.ylabel(\"Frequencies\")\n",
    "plt.show()"
   ]
  },
  {
   "cell_type": "code",
   "execution_count": 6,
   "metadata": {},
   "outputs": [
    {
     "data": {
      "image/png": "[encoded data removed]",
      "text/plain": [
       "<Figure size 432x288 with 9 Axes>"
      ]
     },
     "metadata": {
      "needs_background": "light"
     },
     "output_type": "display_data"
    }
   ],
   "source": [
    "for i in range(9):\n",
    "    plt.subplot(330+1+i)\n",
    "    plt.imshow(x_train1[i], cmap=plt.cm.gray)"
   ]
  },
  {
   "cell_type": "code",
   "execution_count": 7,
   "metadata": {},
   "outputs": [
    {
     "name": "stdout",
     "output_type": "stream",
     "text": [
      "[[  0   0   0   0   0   0   0   0   0   0   0   0   0   0   0   0   0   0\n",
      "    0   0   0   0   0   0   0   0   0   0]\n",
      " [  0   0   0   0   0   0   0   0   0   0   0   0   0   0   0   0   0   0\n",
      "    0   0   0   0   0   0   0   0   0   0]\n",
      " [  0   0   0   0   0   0   0   0   0   0   0   0   0   0   0   0   0   0\n",
      "    0   0   0   0   0   0   0   0   0   0]\n",
      " [  0   0   0   0   0   0   0   0   0   0   0   0   0   0   0   0   0   0\n",
      "    0   0   0   0   0   0   0   0   0   0]\n",
      " [  0   0   0   0   0   0   0   0   0   0   0   0   0   0   0   0   0   0\n",
      "    0   0   0   0   0   0   0   0   0   0]\n",
      " [  0   0   0   0   0   0   0   0   0   0   0   0   3  18  18  18 126 136\n",
      "  175  26 166 255 247 127   0   0   0   0]\n",
      " [  0   0   0   0   0   0   0   0  30  36  94 154 170 253 253 253 253 253\n",
      "  225 172 253 242 195  64   0   0   0   0]\n",
      " [  0   0   0   0   0   0   0  49 238 253 253 253 253 253 253 253 253 251\n",
      "   93  82  82  56  39   0   0   0   0   0]\n",
      " [  0   0   0   0   0   0   0  18 219 253 253 253 253 253 198 182 247 241\n",
      "    0   0   0   0   0   0   0   0   0   0]\n",
      " [  0   0   0   0   0   0   0   0  80 156 107 253 253 205  11   0  43 154\n",
      "    0   0   0   0   0   0   0   0   0   0]\n",
      " [  0   0   0   0   0   0   0   0   0  14   1 154 253  90   0   0   0   0\n",
      "    0   0   0   0   0   0   0   0   0   0]\n",
      " [  0   0   0   0   0   0   0   0   0   0   0 139 253 190   2   0   0   0\n",
      "    0   0   0   0   0   0   0   0   0   0]\n",
      " [  0   0   0   0   0   0   0   0   0   0   0  11 190 253  70   0   0   0\n",
      "    0   0   0   0   0   0   0   0   0   0]\n",
      " [  0   0   0   0   0   0   0   0   0   0   0   0  35 241 225 160 108   1\n",
      "    0   0   0   0   0   0   0   0   0   0]\n",
      " [  0   0   0   0   0   0   0   0   0   0   0   0   0  81 240 253 253 119\n",
      "   25   0   0   0   0   0   0   0   0   0]\n",
      " [  0   0   0   0   0   0   0   0   0   0   0   0   0   0  45 186 253 253\n",
      "  150  27   0   0   0   0   0   0   0   0]\n",
      " [  0   0   0   0   0   0   0   0   0   0   0   0   0   0   0  16  93 252\n",
      "  253 187   0   0   0   0   0   0   0   0]\n",
      " [  0   0   0   0   0   0   0   0   0   0   0   0   0   0   0   0   0 249\n",
      "  253 249  64   0   0   0   0   0   0   0]\n",
      " [  0   0   0   0   0   0   0   0   0   0   0   0   0   0  46 130 183 253\n",
      "  253 207   2   0   0   0   0   0   0   0]\n",
      " [  0   0   0   0   0   0   0   0   0   0   0   0  39 148 229 253 253 253\n",
      "  250 182   0   0   0   0   0   0   0   0]\n",
      " [  0   0   0   0   0   0   0   0   0   0  24 114 221 253 253 253 253 201\n",
      "   78   0   0   0   0   0   0   0   0   0]\n",
      " [  0   0   0   0   0   0   0   0  23  66 213 253 253 253 253 198  81   2\n",
      "    0   0   0   0   0   0   0   0   0   0]\n",
      " [  0   0   0   0   0   0  18 171 219 253 253 253 253 195  80   9   0   0\n",
      "    0   0   0   0   0   0   0   0   0   0]\n",
      " [  0   0   0   0  55 172 226 253 253 253 253 244 133  11   0   0   0   0\n",
      "    0   0   0   0   0   0   0   0   0   0]\n",
      " [  0   0   0   0 136 253 253 253 212 135 132  16   0   0   0   0   0   0\n",
      "    0   0   0   0   0   0   0   0   0   0]\n",
      " [  0   0   0   0   0   0   0   0   0   0   0   0   0   0   0   0   0   0\n",
      "    0   0   0   0   0   0   0   0   0   0]\n",
      " [  0   0   0   0   0   0   0   0   0   0   0   0   0   0   0   0   0   0\n",
      "    0   0   0   0   0   0   0   0   0   0]\n",
      " [  0   0   0   0   0   0   0   0   0   0   0   0   0   0   0   0   0   0\n",
      "    0   0   0   0   0   0   0   0   0   0]]\n"
     ]
    }
   ],
   "source": [
    "print(x_train1[0])"
   ]
  },
  {
   "cell_type": "code",
   "execution_count": 8,
   "metadata": {},
   "outputs": [
    {
     "name": "stdout",
     "output_type": "stream",
     "text": [
      "(28600, 785)\n"
     ]
    }
   ],
   "source": [
    "#importing alphabet data set\n",
    "data = pd.read_csv(\"A_Z Handwirtten DataSet.csv\")\n",
    "print(data.shape)"
   ]
  },
  {
   "cell_type": "code",
   "execution_count": 9,
   "metadata": {},
   "outputs": [
    {
     "name": "stdout",
     "output_type": "stream",
     "text": [
      "    0  0.1  0.2  0.3  0.4  0.5  0.6  0.7  0.8  0.9  ...  0.639  0.640  0.641  \\\n",
      "0   8    0    0    0    0    0    0    0    0    0  ...      0      0      0   \n",
      "1   5    0    0    0    0    0    0    0    0    0  ...      0      0      0   \n",
      "2   7    0    0    0    0    0    0    0    0    0  ...      0      0      0   \n",
      "3   3    0    0    0    0    0    0    0    0    0  ...      0      0      0   \n",
      "4  14    0    0    0    0    0    0    0    0    0  ...      0      0      0   \n",
      "\n",
      "   0.642  0.643  0.644  0.645  0.646  0.647  0.648  \n",
      "0      0      0      0      0      0      0      0  \n",
      "1      0      0      0      0      0      0      0  \n",
      "2      0      0      0      0      0      0      0  \n",
      "3      0      0      0      0      0      0      0  \n",
      "4      0      0      0      0      0      0      0  \n",
      "\n",
      "[5 rows x 785 columns]\n"
     ]
    }
   ],
   "source": [
    "print(data.head())"
   ]
  },
  {
   "cell_type": "code",
   "execution_count": 10,
   "metadata": {},
   "outputs": [],
   "source": [
    "#Split data into images and their labels:\n",
    "\n",
    "X = data.drop('0',axis = 1)        #contains images\n",
    "Y = data['0']                      #contains label"
   ]
  },
  {
   "cell_type": "code",
   "execution_count": 11,
   "metadata": {},
   "outputs": [
    {
     "data": {
      "text/plain": [
       "<matplotlib.image.AxesImage at 0x20b5cf29c88>"
      ]
     },
     "execution_count": 11,
     "metadata": {},
     "output_type": "execute_result"
    },
    {
     "data": {
      "image/png": "[encoded data removed]",
      "text/plain": [
       "<Figure size 432x288 with 1 Axes>"
      ]
     },
     "metadata": {
      "needs_background": "light"
     },
     "output_type": "display_data"
    }
   ],
   "source": [
    "#displaying first alphabet\n",
    "x = np.array(X.head(1))\n",
    "x = np.reshape(x,(28,28))\n",
    "plt.imshow(x, cmap=plt.cm.gray)"
   ]
  },
  {
   "cell_type": "code",
   "execution_count": 12,
   "metadata": {},
   "outputs": [],
   "source": [
    "#train_test data for letter dataset\n",
    "\n",
    "from sklearn.model_selection import train_test_split\n",
    "x_train2, x_test2, y_train2, y_test2 = train_test_split(X, Y, train_size=0.7)"
   ]
  },
  {
   "cell_type": "code",
   "execution_count": 13,
   "metadata": {},
   "outputs": [],
   "source": [
    "#convert into array\n",
    "x_train2 = np.array(x_train2)\n",
    "y_train2 = np.array(y_train2)\n",
    "x_test2 = np.array(x_test2)\n",
    "y_test2 = np.array(y_test2)"
   ]
  },
  {
   "cell_type": "code",
   "execution_count": 14,
   "metadata": {},
   "outputs": [],
   "source": [
    "#normalizing pixel value between 0 and 1\n",
    "\n",
    "#digit data\n",
    "x_train1 = x_train1/255.0 \n",
    "x_test1 =  x_test1/255.0\n",
    "\n",
    "#letter data\n",
    "x_train2 = x_train2/255.0 \n",
    "x_test2 =  x_test2/255.0"
   ]
  },
  {
   "cell_type": "code",
   "execution_count": 15,
   "metadata": {},
   "outputs": [],
   "source": [
    "#resizing the image to input it into convolution layer\n",
    "\n",
    "#digit data\n",
    "x_train1 = np.array(x_train1).reshape(-1,28,28,1)\n",
    "x_test1 = np.array(x_test1).reshape(-1,28,28,1)\n",
    "\n",
    "#alphabet data\n",
    "x_train2 = np.array(x_train2).reshape(-1,28,28,1)\n",
    "x_test2 = np.array(x_test2).reshape(-1,28,28,1)"
   ]
  },
  {
   "cell_type": "code",
   "execution_count": 16,
   "metadata": {},
   "outputs": [],
   "source": [
    "#increasing value by 10 to diffrentiate digit value and letter values\n",
    "y_train2 = y_train2 + 10\n",
    "y_test2 = y_test2 + 10\n",
    "\n",
    "#concatinating train test data\n",
    "x_train = np.concatenate((x_train1, x_train2), axis=0)\n",
    "x_test = np.concatenate((x_test1, x_test2), axis=0)\n",
    "y_train = np.concatenate((y_train1, y_train2), axis=0)\n",
    "y_test = np.concatenate((y_test1, y_test2), axis=0)"
   ]
  },
  {
   "cell_type": "code",
   "execution_count": 56,
   "metadata": {},
   "outputs": [],
   "source": [
    "#designing neural network\n",
    "\n",
    "from tensorflow.keras import models,layers\n",
    "model = models.Sequential()\n",
    "# 1 convolutional layer\n",
    "model.add(layers.Conv2D(32,(3,3), activation = 'relu', input_shape = (28,28,1)))\n",
    "model.add(layers.MaxPooling2D((2,2)))          \n",
    "\n",
    "#2 convolutional layer\n",
    "model.add(layers.Conv2D(64,(3,3), activation = 'relu'))\n",
    "model.add(layers.MaxPooling2D((2,2)))\n",
    "          \n",
    "#3 convolutional layer\n",
    "model.add(layers.Conv2D(64,(3,3),activation = 'relu'))\n",
    "model.add(layers.MaxPooling2D((2,2)))\n",
    "\n",
    "#4 convolutional layer\n",
    "model.add(layers.Conv2D(128,(3,3), activation = 'relu',padding=\"same\"))\n",
    "model.add(layers.MaxPooling2D((2,2),padding=\"same\"))\n",
    "model.add(layers.Dropout(0.4))\n",
    "\n",
    "# dense layer\n",
    "\n",
    "model.add(layers.Flatten())\n",
    "model.add(layers.Dense(100 ,activation = 'relu')) \n",
    "model.add(layers.Dropout(0.4))  \n",
    "model.add(layers.Dense(36 ,activation = 'softmax'))\n",
    "\n",
    "          \n",
    "\n",
    "\n"
   ]
  },
  {
   "cell_type": "code",
   "execution_count": 57,
   "metadata": {},
   "outputs": [
    {
     "name": "stdout",
     "output_type": "stream",
     "text": [
      "Model: \"sequential_20\"\n",
      "_________________________________________________________________\n",
      " Layer (type)                Output Shape              Param #   \n",
      "=================================================================\n",
      " conv2d_75 (Conv2D)          (None, 26, 26, 32)        320       \n",
      "                                                                 \n",
      " max_pooling2d_66 (MaxPoolin  (None, 13, 13, 32)       0         \n",
      " g2D)                                                            \n",
      "                                                                 \n",
      " conv2d_76 (Conv2D)          (None, 11, 11, 64)        18496     \n",
      "                                                                 \n",
      " max_pooling2d_67 (MaxPoolin  (None, 5, 5, 64)         0         \n",
      " g2D)                                                            \n",
      "                                                                 \n",
      " conv2d_77 (Conv2D)          (None, 3, 3, 64)          36928     \n",
      "                                                                 \n",
      " max_pooling2d_68 (MaxPoolin  (None, 1, 1, 64)         0         \n",
      " g2D)                                                            \n",
      "                                                                 \n",
      " conv2d_78 (Conv2D)          (None, 1, 1, 128)         73856     \n",
      "                                                                 \n",
      " max_pooling2d_69 (MaxPoolin  (None, 1, 1, 128)        0         \n",
      " g2D)                                                            \n",
      "                                                                 \n",
      " dropout_21 (Dropout)        (None, 1, 1, 128)         0         \n",
      "                                                                 \n",
      " flatten_2 (Flatten)         (None, 128)               0         \n",
      "                                                                 \n",
      " dense_6 (Dense)             (None, 100)               12900     \n",
      "                                                                 \n",
      " dropout_22 (Dropout)        (None, 100)               0         \n",
      "                                                                 \n",
      " dense_7 (Dense)             (None, 36)                3636      \n",
      "                                                                 \n",
      "=================================================================\n",
      "Total params: 146,136\n",
      "Trainable params: 146,136\n",
      "Non-trainable params: 0\n",
      "_________________________________________________________________\n"
     ]
    }
   ],
   "source": [
    "model.summary()"
   ]
  },
  {
   "cell_type": "code",
   "execution_count": 58,
   "metadata": {},
   "outputs": [],
   "source": [
    "model.compile(optimizer='adam', loss = \"SparseCategoricalCrossentropy\" ,metrics=['accuracy'])"
   ]
  },
  {
   "cell_type": "code",
   "execution_count": 59,
   "metadata": {},
   "outputs": [
    {
     "name": "stdout",
     "output_type": "stream",
     "text": [
      "Epoch 1/10\n",
      "1095/1095 [==============================] - 20s 18ms/step - loss: 1.7359 - accuracy: 0.4822 - val_loss: 0.7632 - val_accuracy: 0.7646\n",
      "Epoch 2/10\n",
      "1095/1095 [==============================] - 23s 21ms/step - loss: 0.7345 - accuracy: 0.7745 - val_loss: 0.4328 - val_accuracy: 0.8566\n",
      "Epoch 3/10\n",
      "1095/1095 [==============================] - 26s 24ms/step - loss: 0.5323 - accuracy: 0.8397 - val_loss: 0.3583 - val_accuracy: 0.8925\n",
      "Epoch 4/10\n",
      "1095/1095 [==============================] - 31s 28ms/step - loss: 0.4323 - accuracy: 0.8662 - val_loss: 0.3038 - val_accuracy: 0.9056\n",
      "Epoch 5/10\n",
      "1095/1095 [==============================] - 34s 31ms/step - loss: 0.3762 - accuracy: 0.8852 - val_loss: 0.2920 - val_accuracy: 0.91440s - loss: 0.3757 - accu\n",
      "Epoch 6/10\n",
      "1095/1095 [==============================] - 33s 30ms/step - loss: 0.3400 - accuracy: 0.8921 - val_loss: 0.2815 - val_accuracy: 0.9054\n",
      "Epoch 7/10\n",
      "1095/1095 [==============================] - 34s 31ms/step - loss: 0.3099 - accuracy: 0.9039 - val_loss: 0.2965 - val_accuracy: 0.9031\n",
      "Epoch 8/10\n",
      "1095/1095 [==============================] - 33s 30ms/step - loss: 0.2899 - accuracy: 0.9092 - val_loss: 0.2565 - val_accuracy: 0.9227\n",
      "Epoch 9/10\n",
      "1095/1095 [==============================] - 33s 30ms/step - loss: 0.2626 - accuracy: 0.9163 - val_loss: 0.2409 - val_accuracy: 0.9294\n",
      "Epoch 10/10\n",
      "1095/1095 [==============================] - 34s 32ms/step - loss: 0.2462 - accuracy: 0.9231 - val_loss: 0.2414 - val_accuracy: 0.9305\n"
     ]
    }
   ],
   "source": [
    "history = model.fit(x_train,y_train,epochs = 10,validation_data=(x_test, y_test))"
   ]
  },
  {
   "cell_type": "code",
   "execution_count": 34,
   "metadata": {},
   "outputs": [
    {
     "data": {
      "image/png": "[encoded data removed]",
      "text/plain": [
       "<Figure size 432x288 with 1 Axes>"
      ]
     },
     "metadata": {
      "needs_background": "light"
     },
     "output_type": "display_data"
    },
    {
     "data": {
      "image/png": "[encoded data removed]",
      "text/plain": [
       "<Figure size 432x288 with 1 Axes>"
      ]
     },
     "metadata": {
      "needs_background": "light"
     },
     "output_type": "display_data"
    }
   ],
   "source": [
    "def plot_metric(metric):\n",
    "    plt.plot(range(10), history.history[metric], color=\"#FF6F00\")\n",
    "    plt.title(metric)\n",
    "    plt.show()  \n",
    "plot_metric(\"accuracy\")\n",
    "plot_metric(\"loss\")"
   ]
  },
  {
   "cell_type": "code",
   "execution_count": 74,
   "metadata": {},
   "outputs": [
    {
     "name": "stdout",
     "output_type": "stream",
     "text": [
      "B\n"
     ]
    }
   ],
   "source": [
    "import cv2\n",
    "\n",
    "img = cv2.imread('img.png')\n",
    "\n",
    "type(img)\n",
    "img = np.array(img)\n",
    "\n",
    "img = cv2.cvtColor(img,cv2.COLOR_BGR2GRAY)\n",
    "img = cv2.resize(img,(28,28),interpolation = cv2.INTER_AREA)\n",
    "\n",
    "img = img.reshape(1,28,28,1)\n",
    "img = img/255.0\n",
    "\n",
    "value = np.argmax(model.predict(img))\n",
    "if(value>9):\n",
    "    print(chr(value+55))\n",
    "else:\n",
    "    print(value)"
   ]
  },
  {
   "cell_type": "code",
   "execution_count": 35,
   "metadata": {},
   "outputs": [],
   "source": [
    "import tkinter as tk\n",
    "import win32gui\n",
    "from PIL import ImageGrab,Image\n",
    "import tkinter.messagebox\n",
    "\n",
    "def clear():\n",
    "    canvas.delete(\"all\")\n",
    "\n",
    "def predict():\n",
    "    x0 = canvas.winfo_rootx() + 8\n",
    "    y0 = canvas.winfo_rooty() + 3\n",
    "    x1 = x0 + 425\n",
    "    y1 = y0 + 470\n",
    "\n",
    "    img = ImageGrab.grab((x0, y0, x1, y1))\n",
    "    img = img.resize((28, 28)).convert(\"L\")\n",
    "    img = np.array(img)\n",
    "    img = img.reshape((1, 28, 28, 1))\n",
    "    img = img / 255.0\n",
    "    \n",
    "    value = np.argmax(model.predict(img))\n",
    "    if(value>9):\n",
    "        tkinter.messagebox.showinfo(\"Prediction\", \"it's a \" + str(chr(value+55)))\n",
    "    else:\n",
    "        tkinter.messagebox.showinfo(\"Prediction\", \"it's a \" + str(value))\n",
    "\n",
    "def get_x_and_y(event):\n",
    "    global lasx, lasy\n",
    "    lasx, lasy = event.x, event.y\n",
    "\n",
    "def draw(event):\n",
    "    global lasx, lasy\n",
    "    canvas.create_oval((lasx, lasy, event.x, event.y), \n",
    "                      fill='white', outline='white', \n",
    "                      width=15)\n",
    "    lasx, lasy = event.x, event.y\n"
   ]
  },
  {
   "cell_type": "code",
   "execution_count": 37,
   "metadata": {},
   "outputs": [],
   "source": [
    "window = Tk()\n",
    "window.geometry(\"350x400+1+1\")\n",
    "window.title(\"Character Recognization.\")\n",
    "\n",
    "canvas = Canvas(window, bg='black',height=\"370\",width=\"340\")\n",
    "canvas.bind(\"<Button-1>\", get_x_and_y)\n",
    "canvas.bind(\"<B1-Motion>\", draw)\n",
    "\n",
    "button_frame = tk.Frame(window)\n",
    "clear_button = tk.Button(button_frame, text=\"Clear\", command=clear)\n",
    "predict_button = tk.Button(button_frame, text=\"Predict\", command=predict)\n",
    "\n",
    "canvas.pack(expand= FALSE)\n",
    "clear_button.pack(side=\"left\")\n",
    "predict_button.pack(side=\"right\")\n",
    "button_frame.pack(side = \"bottom\")\n",
    "\n",
    "window.mainloop()"
   ]
  },
  {
   "cell_type": "code",
   "execution_count": null,
   "metadata": {},
   "outputs": [],
   "source": []
  }
 ],
 "metadata": {
  "kernelspec": {
   "display_name": "Python 3",
   "language": "python",
   "name": "python3"
  },
  "language_info": {
   "codemirror_mode": {
    "name": "ipython",
    "version": 3
   },
   "file_extension": ".py",
   "mimetype": "text/x-python",
   "name": "python",
   "nbconvert_exporter": "python",
   "pygments_lexer": "ipython3",
   "version": "3.7.4"
  }
 },
 "nbformat": 4,
 "nbformat_minor": 2
}
