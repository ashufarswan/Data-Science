{
 "cells": [
  {
   "cell_type": "code",
   "execution_count": 96,
   "metadata": {},
   "outputs": [],
   "source": [
    "#importing modules\n",
    "import numpy as np\n",
    "import pandas as pd\n",
    "import tensorflow as tf\n",
    "import matplotlib.pyplot as plt\n"
   ]
  },
  {
   "cell_type": "code",
   "execution_count": 97,
   "metadata": {},
   "outputs": [],
   "source": [
    "#importing digit dataset\n",
    "\n",
    "from keras.datasets import mnist\n",
    "(x_train1, y_train1), (x_test1, y_test1) = mnist.load_data()"
   ]
  },
  {
   "cell_type": "code",
   "execution_count": 98,
   "metadata": {},
   "outputs": [
    {
     "name": "stdout",
     "output_type": "stream",
     "text": [
      "(60000, 28, 28)\n",
      "(60000,)\n",
      "(10000, 28, 28)\n",
      "(10000,)\n"
     ]
    }
   ],
   "source": [
    "print(x_train1.shape)\n",
    "print(y_train1.shape)\n",
    "print(x_test1.shape)\n",
    "print(y_test1.shape)"
   ]
  },
  {
   "cell_type": "code",
   "execution_count": 99,
   "metadata": {},
   "outputs": [],
   "source": [
    "#reducing size of mnist data set\n",
    "x_train1 = x_train1[:15000]\n",
    "y_train1 = y_train1[:15000]\n",
    "x_test1 = x_test1[:2000]\n",
    "y_test1 = y_test1[:2000]\n"
   ]
  },
  {
   "cell_type": "code",
   "execution_count": 100,
   "metadata": {},
   "outputs": [
    {
     "data": {
      "text/plain": [
       "<matplotlib.image.AxesImage at 0x29611b8cf88>"
      ]
     },
     "execution_count": 100,
     "metadata": {},
     "output_type": "execute_result"
    },
    {
     "data": {
      "image/png": "[encoded data removed]",
      "text/plain": [
       "<Figure size 432x288 with 1 Axes>"
      ]
     },
     "metadata": {
      "needs_background": "light"
     },
     "output_type": "display_data"
    }
   ],
   "source": [
    "plt.imshow(x_train1[0], cmap=plt.cm.binary)"
   ]
  },
  {
   "cell_type": "code",
   "execution_count": 101,
   "metadata": {},
   "outputs": [
    {
     "name": "stdout",
     "output_type": "stream",
     "text": [
      "[[  0   0   0   0   0   0   0   0   0   0   0   0   0   0   0   0   0   0\n",
      "    0   0   0   0   0   0   0   0   0   0]\n",
      " [  0   0   0   0   0   0   0   0   0   0   0   0   0   0   0   0   0   0\n",
      "    0   0   0   0   0   0   0   0   0   0]\n",
      " [  0   0   0   0   0   0   0   0   0   0   0   0   0   0   0   0   0   0\n",
      "    0   0   0   0   0   0   0   0   0   0]\n",
      " [  0   0   0   0   0   0   0   0   0   0   0   0   0   0   0   0   0   0\n",
      "    0   0   0   0   0   0   0   0   0   0]\n",
      " [  0   0   0   0   0   0   0   0   0   0   0   0   0   0   0   0   0   0\n",
      "    0   0   0   0   0   0   0   0   0   0]\n",
      " [  0   0   0   0   0   0   0   0   0   0   0   0   3  18  18  18 126 136\n",
      "  175  26 166 255 247 127   0   0   0   0]\n",
      " [  0   0   0   0   0   0   0   0  30  36  94 154 170 253 253 253 253 253\n",
      "  225 172 253 242 195  64   0   0   0   0]\n",
      " [  0   0   0   0   0   0   0  49 238 253 253 253 253 253 253 253 253 251\n",
      "   93  82  82  56  39   0   0   0   0   0]\n",
      " [  0   0   0   0   0   0   0  18 219 253 253 253 253 253 198 182 247 241\n",
      "    0   0   0   0   0   0   0   0   0   0]\n",
      " [  0   0   0   0   0   0   0   0  80 156 107 253 253 205  11   0  43 154\n",
      "    0   0   0   0   0   0   0   0   0   0]\n",
      " [  0   0   0   0   0   0   0   0   0  14   1 154 253  90   0   0   0   0\n",
      "    0   0   0   0   0   0   0   0   0   0]\n",
      " [  0   0   0   0   0   0   0   0   0   0   0 139 253 190   2   0   0   0\n",
      "    0   0   0   0   0   0   0   0   0   0]\n",
      " [  0   0   0   0   0   0   0   0   0   0   0  11 190 253  70   0   0   0\n",
      "    0   0   0   0   0   0   0   0   0   0]\n",
      " [  0   0   0   0   0   0   0   0   0   0   0   0  35 241 225 160 108   1\n",
      "    0   0   0   0   0   0   0   0   0   0]\n",
      " [  0   0   0   0   0   0   0   0   0   0   0   0   0  81 240 253 253 119\n",
      "   25   0   0   0   0   0   0   0   0   0]\n",
      " [  0   0   0   0   0   0   0   0   0   0   0   0   0   0  45 186 253 253\n",
      "  150  27   0   0   0   0   0   0   0   0]\n",
      " [  0   0   0   0   0   0   0   0   0   0   0   0   0   0   0  16  93 252\n",
      "  253 187   0   0   0   0   0   0   0   0]\n",
      " [  0   0   0   0   0   0   0   0   0   0   0   0   0   0   0   0   0 249\n",
      "  253 249  64   0   0   0   0   0   0   0]\n",
      " [  0   0   0   0   0   0   0   0   0   0   0   0   0   0  46 130 183 253\n",
      "  253 207   2   0   0   0   0   0   0   0]\n",
      " [  0   0   0   0   0   0   0   0   0   0   0   0  39 148 229 253 253 253\n",
      "  250 182   0   0   0   0   0   0   0   0]\n",
      " [  0   0   0   0   0   0   0   0   0   0  24 114 221 253 253 253 253 201\n",
      "   78   0   0   0   0   0   0   0   0   0]\n",
      " [  0   0   0   0   0   0   0   0  23  66 213 253 253 253 253 198  81   2\n",
      "    0   0   0   0   0   0   0   0   0   0]\n",
      " [  0   0   0   0   0   0  18 171 219 253 253 253 253 195  80   9   0   0\n",
      "    0   0   0   0   0   0   0   0   0   0]\n",
      " [  0   0   0   0  55 172 226 253 253 253 253 244 133  11   0   0   0   0\n",
      "    0   0   0   0   0   0   0   0   0   0]\n",
      " [  0   0   0   0 136 253 253 253 212 135 132  16   0   0   0   0   0   0\n",
      "    0   0   0   0   0   0   0   0   0   0]\n",
      " [  0   0   0   0   0   0   0   0   0   0   0   0   0   0   0   0   0   0\n",
      "    0   0   0   0   0   0   0   0   0   0]\n",
      " [  0   0   0   0   0   0   0   0   0   0   0   0   0   0   0   0   0   0\n",
      "    0   0   0   0   0   0   0   0   0   0]\n",
      " [  0   0   0   0   0   0   0   0   0   0   0   0   0   0   0   0   0   0\n",
      "    0   0   0   0   0   0   0   0   0   0]]\n"
     ]
    }
   ],
   "source": [
    "print(x_train1[0])"
   ]
  },
  {
   "cell_type": "code",
   "execution_count": 102,
   "metadata": {},
   "outputs": [
    {
     "name": "stdout",
     "output_type": "stream",
     "text": [
      "(28600, 785)\n"
     ]
    }
   ],
   "source": [
    "#importing alphabet data set\n",
    "data = pd.read_csv(\"A_Z Handwirtten DataSet.csv\")\n",
    "print(data.shape)"
   ]
  },
  {
   "cell_type": "code",
   "execution_count": 103,
   "metadata": {},
   "outputs": [
    {
     "name": "stdout",
     "output_type": "stream",
     "text": [
      "    0  0.1  0.2  0.3  0.4  0.5  0.6  0.7  0.8  0.9  ...  0.639  0.640  0.641  \\\n",
      "0   8    0    0    0    0    0    0    0    0    0  ...      0      0      0   \n",
      "1   5    0    0    0    0    0    0    0    0    0  ...      0      0      0   \n",
      "2   7    0    0    0    0    0    0    0    0    0  ...      0      0      0   \n",
      "3   3    0    0    0    0    0    0    0    0    0  ...      0      0      0   \n",
      "4  14    0    0    0    0    0    0    0    0    0  ...      0      0      0   \n",
      "\n",
      "   0.642  0.643  0.644  0.645  0.646  0.647  0.648  \n",
      "0      0      0      0      0      0      0      0  \n",
      "1      0      0      0      0      0      0      0  \n",
      "2      0      0      0      0      0      0      0  \n",
      "3      0      0      0      0      0      0      0  \n",
      "4      0      0      0      0      0      0      0  \n",
      "\n",
      "[5 rows x 785 columns]\n"
     ]
    }
   ],
   "source": [
    "print(data.head())"
   ]
  },
  {
   "cell_type": "code",
   "execution_count": 104,
   "metadata": {},
   "outputs": [],
   "source": [
    "#Split data into images and their labels:\n",
    "\n",
    "X = data.drop('0',axis = 1)        #contains images\n",
    "Y = data['0']                      #contains label"
   ]
  },
  {
   "cell_type": "code",
   "execution_count": 105,
   "metadata": {},
   "outputs": [
    {
     "data": {
      "text/plain": [
       "<matplotlib.image.AxesImage at 0x2960ff1b748>"
      ]
     },
     "execution_count": 105,
     "metadata": {},
     "output_type": "execute_result"
    },
    {
     "data": {
      "image/png": "[encoded data removed]",
      "text/plain": [
       "<Figure size 432x288 with 1 Axes>"
      ]
     },
     "metadata": {
      "needs_background": "light"
     },
     "output_type": "display_data"
    }
   ],
   "source": [
    "#displaying first alphabet\n",
    "x = np.array(X.head(1))\n",
    "x = np.reshape(x,(28,28))\n",
    "plt.imshow(x, cmap=plt.cm.binary)"
   ]
  },
  {
   "cell_type": "code",
   "execution_count": 106,
   "metadata": {},
   "outputs": [],
   "source": [
    "#train_test data for letter dataset\n",
    "\n",
    "from sklearn.model_selection import train_test_split\n",
    "x_train2, x_test2, y_train2, y_test2 = train_test_split(X, Y, train_size=0.7)"
   ]
  },
  {
   "cell_type": "code",
   "execution_count": 107,
   "metadata": {},
   "outputs": [],
   "source": [
    "#convert into array\n",
    "x_train2 = np.array(x_train2)\n",
    "y_train2 = np.array(y_train2)\n",
    "x_test2 = np.array(x_test2)\n",
    "y_test2 = np.array(y_test2)"
   ]
  },
  {
   "cell_type": "code",
   "execution_count": 108,
   "metadata": {},
   "outputs": [],
   "source": [
    "#normalizing pixel value between 0 and 1\n",
    "\n",
    "#digit data\n",
    "x_train1 = x_train1/255.0 \n",
    "x_test1 =  x_test1/255.0\n",
    "\n",
    "#letter data\n",
    "x_train2 = x_train2/255.0 \n",
    "x_test2 =  x_test2/255.0"
   ]
  },
  {
   "cell_type": "code",
   "execution_count": 109,
   "metadata": {},
   "outputs": [],
   "source": [
    "#resizing the image to input it into convolution layer\n",
    "\n",
    "#digit data\n",
    "x_train1 = np.array(x_train1).reshape(-1,28,28,1)\n",
    "x_test1 = np.array(x_test1).reshape(-1,28,28,1)\n",
    "\n",
    "#alphabet data\n",
    "x_train2 = np.array(x_train2).reshape(-1,28,28,1)\n",
    "x_test2 = np.array(x_test2).reshape(-1,28,28,1)"
   ]
  },
  {
   "cell_type": "code",
   "execution_count": 110,
   "metadata": {},
   "outputs": [],
   "source": [
    "#increasing value by 10 to diffrentiate digit value and letter values\n",
    "y_train2 = y_train2 + 10\n",
    "y_test2 = y_test2 + 10\n",
    "\n",
    "#concatinating train test data\n",
    "x_train = np.concatenate((x_train1, x_train2), axis=0)\n",
    "x_test = np.concatenate((x_test1, x_test2), axis=0)\n",
    "y_train = np.concatenate((y_train1, y_train2), axis=0)\n",
    "y_test = np.concatenate((y_test1, y_test2), axis=0)"
   ]
  },
  {
   "cell_type": "code",
   "execution_count": 111,
   "metadata": {},
   "outputs": [],
   "source": [
    "#designing neural network\n",
    "\n",
    "from tensorflow.keras import models,layers\n",
    "model = models.Sequential()\n",
    "# 1 convolutional layer\n",
    "model.add(layers.Conv2D(64,(3,3), activation = 'relu' , input_shape = (28,28,1)))\n",
    "model.add(layers.MaxPooling2D((2,2)))          \n",
    "\n",
    "#2 convolutional layer\n",
    "model.add(layers.Conv2D(64,(3,3), activation = 'relu'))\n",
    "model.add(layers.MaxPooling2D((2,2)))         \n",
    "          \n",
    "#3 convolutional layer\n",
    "model.add(layers.Conv2D(32,(3,3), activation = 'relu'))\n",
    "model.add(layers.MaxPooling2D((2,2)))         \n",
    " \n",
    "\n",
    "          \n",
    "# dense layer\n",
    "\n",
    "model.add(layers.Flatten())\n",
    "model.add(layers.Dense(64 ,activation = 'relu')) \n",
    "model.add(layers.Dense(64 ,activation = 'relu'))  \n",
    "model.add(layers.Dense(36 ,activation = 'softmax'))\n",
    "\n",
    "          \n",
    "\n",
    "\n"
   ]
  },
  {
   "cell_type": "code",
   "execution_count": 112,
   "metadata": {},
   "outputs": [
    {
     "name": "stdout",
     "output_type": "stream",
     "text": [
      "Model: \"sequential_13\"\n",
      "_________________________________________________________________\n",
      " Layer (type)                Output Shape              Param #   \n",
      "=================================================================\n",
      " conv2d_39 (Conv2D)          (None, 26, 26, 64)        640       \n",
      "                                                                 \n",
      " max_pooling2d_38 (MaxPoolin  (None, 13, 13, 64)       0         \n",
      " g2D)                                                            \n",
      "                                                                 \n",
      " conv2d_40 (Conv2D)          (None, 11, 11, 64)        36928     \n",
      "                                                                 \n",
      " max_pooling2d_39 (MaxPoolin  (None, 5, 5, 64)         0         \n",
      " g2D)                                                            \n",
      "                                                                 \n",
      " conv2d_41 (Conv2D)          (None, 3, 3, 32)          18464     \n",
      "                                                                 \n",
      " max_pooling2d_40 (MaxPoolin  (None, 1, 1, 32)         0         \n",
      " g2D)                                                            \n",
      "                                                                 \n",
      " flatten_12 (Flatten)        (None, 32)                0         \n",
      "                                                                 \n",
      " dense_35 (Dense)            (None, 64)                2112      \n",
      "                                                                 \n",
      " dense_36 (Dense)            (None, 64)                4160      \n",
      "                                                                 \n",
      " dense_37 (Dense)            (None, 36)                2340      \n",
      "                                                                 \n",
      "=================================================================\n",
      "Total params: 64,644\n",
      "Trainable params: 64,644\n",
      "Non-trainable params: 0\n",
      "_________________________________________________________________\n"
     ]
    }
   ],
   "source": [
    "model.summary()"
   ]
  },
  {
   "cell_type": "code",
   "execution_count": 113,
   "metadata": {},
   "outputs": [],
   "source": [
    "model.compile(optimizer='adam', loss = \"SparseCategoricalCrossentropy\" ,metrics=['accuracy'])"
   ]
  },
  {
   "cell_type": "code",
   "execution_count": 114,
   "metadata": {},
   "outputs": [
    {
     "name": "stdout",
     "output_type": "stream",
     "text": [
      "Epoch 1/4\n",
      "1095/1095 [==============================] - 33s 30ms/step - loss: 1.1653 - accuracy: 0.6532 - val_loss: 0.6905 - val_accuracy: 0.7882\n",
      "Epoch 2/4\n",
      "1095/1095 [==============================] - 34s 31ms/step - loss: 0.4612 - accuracy: 0.8529 - val_loss: 0.4087 - val_accuracy: 0.8763\n",
      "Epoch 3/4\n",
      "1095/1095 [==============================] - 34s 31ms/step - loss: 0.3453 - accuracy: 0.8891 - val_loss: 0.4386 - val_accuracy: 0.8662\n",
      "Epoch 4/4\n",
      "1095/1095 [==============================] - 34s 31ms/step - loss: 0.2868 - accuracy: 0.9055 - val_loss: 0.3002 - val_accuracy: 0.9038\n"
     ]
    },
    {
     "data": {
      "text/plain": [
       "<keras.callbacks.History at 0x2960ff78fc8>"
      ]
     },
     "execution_count": 114,
     "metadata": {},
     "output_type": "execute_result"
    }
   ],
   "source": [
    "model.fit(x_train,y_train,epochs = 4,validation_data=(x_test, y_test))"
   ]
  },
  {
   "cell_type": "code",
   "execution_count": 141,
   "metadata": {},
   "outputs": [
    {
     "name": "stdout",
     "output_type": "stream",
     "text": [
      "C\n"
     ]
    }
   ],
   "source": [
    "import cv2\n",
    "\n",
    "img = cv2.imread('img.png')\n",
    "\n",
    "type(img)\n",
    "img = np.array(img)\n",
    "\n",
    "img = cv2.cvtColor(img,cv2.COLOR_BGR2GRAY)\n",
    "img = cv2.resize(img,(28,28),interpolation = cv2.INTER_AREA)\n",
    "\n",
    "img = img.reshape(1,28,28,1)\n",
    "img = img/255.0\n",
    "\n",
    "value = np.argmax(model.predict(img))\n",
    "if(value>9):\n",
    "    print(chr(value+55))\n",
    "else:\n",
    "    print(value)"
   ]
  },
  {
   "cell_type": "code",
   "execution_count": null,
   "metadata": {},
   "outputs": [],
   "source": []
  },
  {
   "cell_type": "code",
   "execution_count": null,
   "metadata": {},
   "outputs": [],
   "source": []
  }
 ],
 "metadata": {
  "kernelspec": {
   "display_name": "Python 3",
   "language": "python",
   "name": "python3"
  },
  "language_info": {
   "codemirror_mode": {
    "name": "ipython",
    "version": 3
   },
   "file_extension": ".py",
   "mimetype": "text/x-python",
   "name": "python",
   "nbconvert_exporter": "python",
   "pygments_lexer": "ipython3",
   "version": "3.7.4"
  }
 },
 "nbformat": 4,
 "nbformat_minor": 2
}
