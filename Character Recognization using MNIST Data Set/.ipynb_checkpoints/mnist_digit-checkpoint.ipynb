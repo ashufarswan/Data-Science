{
 "cells": [
  {
   "cell_type": "code",
   "execution_count": null,
   "metadata": {},
   "outputs": [],
   "source": [
    "#importing modules\n",
    "import numpy as np\n",
    "import pandas as pd\n",
    "import tensorflow as tf\n",
    "import matplotlib.pyplot as plt\n"
   ]
  },
  {
   "cell_type": "code",
   "execution_count": null,
   "metadata": {},
   "outputs": [],
   "source": [
    "#importing digit dataset\n",
    "\n",
    "from keras.datasets import mnist\n",
    "(train_X, train_y), (test_X, test_y) = mnist.load_data()"
   ]
  },
  {
   "cell_type": "code",
   "execution_count": null,
   "metadata": {},
   "outputs": [],
   "source": [
    "print(train_X.shape)\n",
    "print(test_X.shape)"
   ]
  },
  {
   "cell_type": "code",
   "execution_count": null,
   "metadata": {},
   "outputs": [],
   "source": [
    "plt.imshow(train_X[0], cmap=plt.cm.binary)"
   ]
  },
  {
   "cell_type": "code",
   "execution_count": null,
   "metadata": {},
   "outputs": [],
   "source": [
    "print(train_X[0])"
   ]
  },
  {
   "cell_type": "code",
   "execution_count": null,
   "metadata": {},
   "outputs": [],
   "source": [
    "#normalizing pixel value between 0 and 1\n",
    "\n",
    "train_X = train_X/255.0 \n",
    "test_X =  test_X/255.0\n"
   ]
  },
  {
   "cell_type": "code",
   "execution_count": null,
   "metadata": {},
   "outputs": [],
   "source": [
    "#importing alphabet data set\n",
    "data = pd.read_csv(\"A_Z Handwritten Data.csv\").astype('float32')\n",
    "data.head()"
   ]
  },
  {
   "cell_type": "code",
   "execution_count": 7,
   "metadata": {},
   "outputs": [],
   "source": [
    "#resizing the image to input it into convolution layer\n",
    "\n",
    "x_train = np.array(train_X).reshape(-1,28,28,1)\n",
    "x_test = np.array(test_X).reshape(-1,28,28,1)"
   ]
  },
  {
   "cell_type": "code",
   "execution_count": 8,
   "metadata": {},
   "outputs": [],
   "source": [
    "#designing neural network\n",
    "\n",
    "from tensorflow.keras import models,layers\n",
    "model = models.Sequential()\n",
    "# 1 convolutional layer\n",
    "model.add(layers.Conv2D(64,(3,3), activation = 'relu' , input_shape = (28,28,1)))\n",
    "model.add(layers.MaxPooling2D((2,2)))          \n",
    "\n",
    "#2 convolutional layer\n",
    "model.add(layers.Conv2D(64,(3,3), activation = 'relu'))\n",
    "model.add(layers.MaxPooling2D((2,2)))         \n",
    "          \n",
    "#3 convolutional layer\n",
    "model.add(layers.Conv2D(64,(3,3), activation = 'relu'))\n",
    "model.add(layers.MaxPooling2D((2,2)))\n",
    "          \n",
    "\n",
    "          \n",
    "# dense layer\n",
    "\n",
    "model.add(layers.Flatten())\n",
    "model.add(layers.Dense(64 ,activation = 'relu'))          \n",
    "model.add(layers.Dense(32 ,activation = 'relu'))\n",
    "model.add(layers.Dense(10 ,activation = 'softmax'))\n",
    "\n",
    "          \n",
    "\n",
    "\n"
   ]
  },
  {
   "cell_type": "code",
   "execution_count": 9,
   "metadata": {},
   "outputs": [
    {
     "name": "stdout",
     "output_type": "stream",
     "text": [
      "Model: \"sequential\"\n",
      "_________________________________________________________________\n",
      " Layer (type)                Output Shape              Param #   \n",
      "=================================================================\n",
      " conv2d (Conv2D)             (None, 26, 26, 64)        640       \n",
      "                                                                 \n",
      " max_pooling2d (MaxPooling2D  (None, 13, 13, 64)       0         \n",
      " )                                                               \n",
      "                                                                 \n",
      " conv2d_1 (Conv2D)           (None, 11, 11, 64)        36928     \n",
      "                                                                 \n",
      " max_pooling2d_1 (MaxPooling  (None, 5, 5, 64)         0         \n",
      " 2D)                                                             \n",
      "                                                                 \n",
      " conv2d_2 (Conv2D)           (None, 3, 3, 64)          36928     \n",
      "                                                                 \n",
      " max_pooling2d_2 (MaxPooling  (None, 1, 1, 64)         0         \n",
      " 2D)                                                             \n",
      "                                                                 \n",
      " flatten (Flatten)           (None, 64)                0         \n",
      "                                                                 \n",
      " dense (Dense)               (None, 64)                4160      \n",
      "                                                                 \n",
      " dense_1 (Dense)             (None, 32)                2080      \n",
      "                                                                 \n",
      " dense_2 (Dense)             (None, 10)                330       \n",
      "                                                                 \n",
      "=================================================================\n",
      "Total params: 81,066\n",
      "Trainable params: 81,066\n",
      "Non-trainable params: 0\n",
      "_________________________________________________________________\n"
     ]
    }
   ],
   "source": [
    "model.summary()"
   ]
  },
  {
   "cell_type": "code",
   "execution_count": 10,
   "metadata": {},
   "outputs": [],
   "source": [
    "model.compile(optimizer='adam', loss = \"SparseCategoricalCrossentropy\" ,metrics=['accuracy'])"
   ]
  },
  {
   "cell_type": "code",
   "execution_count": 45,
   "metadata": {},
   "outputs": [
    {
     "name": "stdout",
     "output_type": "stream",
     "text": [
      "Epoch 1/5\n",
      "1875/1875 [==============================] - 53s 28ms/step - loss: 0.0103 - accuracy: 0.9968 - val_loss: 0.0617 - val_accuracy: 0.9886\n",
      "Epoch 2/5\n",
      "1875/1875 [==============================] - 59s 31ms/step - loss: 0.0105 - accuracy: 0.9963 - val_loss: 0.0652 - val_accuracy: 0.9871\n",
      "Epoch 3/5\n",
      "1875/1875 [==============================] - 61s 33ms/step - loss: 0.0096 - accuracy: 0.9969 - val_loss: 0.0647 - val_accuracy: 0.9863\n",
      "Epoch 4/5\n",
      "1875/1875 [==============================] - 69s 37ms/step - loss: 0.0095 - accuracy: 0.9968 - val_loss: 0.0755 - val_accuracy: 0.9857\n",
      "Epoch 5/5\n",
      "1875/1875 [==============================] - 62s 33ms/step - loss: 0.0089 - accuracy: 0.9974 - val_loss: 0.0700 - val_accuracy: 0.9870\n"
     ]
    },
    {
     "data": {
      "text/plain": [
       "<keras.callbacks.History at 0x22e0b38c388>"
      ]
     },
     "execution_count": 45,
     "metadata": {},
     "output_type": "execute_result"
    }
   ],
   "source": [
    "model.fit(x_train,train_y,epochs = 5,validation_data=(test_X, test_y))"
   ]
  },
  {
   "cell_type": "code",
   "execution_count": 211,
   "metadata": {},
   "outputs": [],
   "source": [
    "import tkinter as tk\n",
    "from PIL import ImageGrab\n",
    "import win32gui\n",
    "import cv2\n",
    "import tkinter.messagebox\n",
    "\n",
    "def mouse_event(event):\n",
    "    x, y = event.x, event.y\n",
    "    c.create_oval(x, y, x, y, fill='white', outline='white', width=25)\n",
    "    \n",
    "def clear():\n",
    "    c.delete(\"all\")\n",
    "\n",
    "def predict():\n",
    "    \n",
    "    x =t.winfo_rootx()+c.winfo_x()\n",
    "    y =t.winfo_rooty()+c.winfo_y()\n",
    "    x1=x+c.winfo_width()\n",
    "    y1=y+c.winfo_height()\n",
    "    img = ImageGrab.grab().crop((x,y,x1,y1))\n",
    "    plt.imshow(img)\n",
    "    \n",
    "    img = np.array(img)\n",
    "    \n",
    "   \n",
    "    \n",
    "    img = cv2.cvtColor(img,cv2.COLOR_BGR2GRAY)\n",
    "    img = cv2.resize(img,(28,28),interpolation = cv2.INTER_AREA)\n",
    "    \n",
    "    \n",
    "    img = img/255.0\n",
    "    img = img.reshape(1,28,28,1)\n",
    "    \n",
    "    value = model.predict(img)\n",
    "    tkinter.messagebox.showinfo(\"Prediction\", \"it's a \" +str(np.argmax(value)))"
   ]
  },
  {
   "cell_type": "code",
   "execution_count": 212,
   "metadata": {},
   "outputs": [
    {
     "data": {
      "image/png": "[encoded data removed]",
      "text/plain": [
       "<Figure size 432x288 with 1 Axes>"
      ]
     },
     "metadata": {
      "needs_background": "light"
     },
     "output_type": "display_data"
    }
   ],
   "source": [
    "\n",
    "t = tk.Tk()\n",
    "t.geometry(\"300x350\")\n",
    "t.title(\"Character Recognization\")\n",
    "\n",
    "button_frame = tk.Frame(t)\n",
    "\n",
    "c = tk.Canvas(t, bg=\"black\", height=300, width=300)\n",
    "c.bind('<B1-Motion>', mouse_event)\n",
    "cb = tk.Button(button_frame, text=\"Clear\", command=clear)\n",
    "pb = tk.Button(button_frame, text=\"Predict\", command=predict)\n",
    "\n",
    "c.pack()\n",
    "cb.pack(side=\"left\")\n",
    "pb.pack(side=\"right\")\n",
    "\n",
    "button_frame.pack()\n",
    "t.mainloop()"
   ]
  },
  {
   "cell_type": "code",
   "execution_count": null,
   "metadata": {},
   "outputs": [],
   "source": []
  }
 ],
 "metadata": {
  "kernelspec": {
   "display_name": "Python 3",
   "language": "python",
   "name": "python3"
  },
  "language_info": {
   "codemirror_mode": {
    "name": "ipython",
    "version": 3
   },
   "file_extension": ".py",
   "mimetype": "text/x-python",
   "name": "python",
   "nbconvert_exporter": "python",
   "pygments_lexer": "ipython3",
   "version": "3.7.4"
  }
 },
 "nbformat": 4,
 "nbformat_minor": 2
}
